{
 "metadata": {
  "name": "",
  "signature": "sha256:0c9ed57fd18ba8b637b3edfcfd549701d73b6ae659feddf3de881b7f3356dc12"
 },
 "nbformat": 3,
 "nbformat_minor": 0,
 "worksheets": [
  {
   "cells": [
    {
     "cell_type": "code",
     "collapsed": false,
     "input": [
      "%matplotlib inline\n",
      "%load_ext autoreload\n",
      "%autoreload 2\n",
      "from wrappers import SparseGridWrapper\n",
      "import numpy as np\n",
      "import matplotlib\n",
      "import matplotlib.pylab as pl\n",
      "import seaborn as sns\n",
      "from pysgpp import *\n",
      "import scipy.io.arff as arff\n",
      "from algorithms import vSGD, SGD, vSGDfd, AnnealingSGD, AveragingSGD"
     ],
     "language": "python",
     "metadata": {},
     "outputs": [],
     "prompt_number": 1
    },
    {
     "cell_type": "code",
     "collapsed": false,
     "input": [
      "def print_mse(s, y, mult_eval):\n",
      "    if s.provider._counter % 10 == 0:\n",
      "        params_DV = DataVector(s.bestParameters)\n",
      "        results_DV = DataVector(len(y))\n",
      "        mult_eval.mult(params_DV, results_DV);\n",
      "        #print y[:15]\n",
      "        #print results_DV.array()[:15]\n",
      "        residual = np.linalg.norm(y - results_DV.array())\n",
      "        print \"Itearation %d, learning rate %f, train MSE %e\" \\\n",
      "        %(s.provider._counter, np.mean(s.learning_rate), residual**2/len(y))"
     ],
     "language": "python",
     "metadata": {},
     "outputs": [],
     "prompt_number": 2
    },
    {
     "cell_type": "heading",
     "level": 1,
     "metadata": {},
     "source": [
      "1D Parabola Example"
     ]
    },
    {
     "cell_type": "code",
     "collapsed": false,
     "input": [
      "dim = 1\n",
      "level = 4\n",
      "l = 1E-8\n",
      "grid = Grid.createLinearGrid(dim)\n",
      "gridStorage = grid.getStorage()\n",
      "gridGen = grid.createGridGenerator()\n",
      "gridGen.regular(level)\n",
      "\n",
      "size = 1000\n",
      "x = np.random.rand(size*dim).reshape(size,-1)\n",
      "#y = np.apply_along_axis(lambda p:4*p[0]*(1-p[0])*p[1]*(1-p[1]), 1, x)\n",
      "y = np.apply_along_axis(lambda p:4*p[0]*(1-p[0]), 1, x)\n",
      "dataset = np.vstack([x.T,y]).T\n",
      "\n",
      "\n",
      "data_matrix = DataMatrix(dataset[:,:dim])\n",
      "mult_eval = createOperationMultipleEval(grid, data_matrix);\n",
      "print_cb = lambda s: print_mse(s, dataset[:,dim], mult_eval)\n",
      " \n",
      "f = SparseGridWrapper(grid, dataset, l)\n",
      "x0 = np.zeros(grid.getSize())\n",
      "#algo = SGD(f, x0, callback=print_cb, learning_rate=0.2, loss_target=-np.inf)\n",
      "\n",
      "#algo = vSGD(f, x0, callback=print_cb, loss_target=-np.inf, init_samples=10, batch_size=1)\n"
     ],
     "language": "python",
     "metadata": {},
     "outputs": [],
     "prompt_number": 3
    },
    {
     "cell_type": "code",
     "collapsed": false,
     "input": [
      "f.reset()\n",
      "algo = vSGDfd(f, x0, callback=print_cb, loss_target=-np.inf, init_samples=1, batch_size=10)\n",
      "algo.run(100)"
     ],
     "language": "python",
     "metadata": {},
     "outputs": [
      {
       "output_type": "stream",
       "stream": "stdout",
       "text": [
        "Itearation 10, learning rate 0.053350, train MSE 5.269932e-01\n",
        "Itearation 20, learning rate 0.232453, train MSE 2.669622e-01\n",
        "Itearation 30, learning rate 0.231623, train MSE 6.928724e-02\n",
        "Itearation 40, learning rate 0.213882, train MSE 2.752592e-02"
       ]
      },
      {
       "output_type": "stream",
       "stream": "stdout",
       "text": [
        "\n",
        "Itearation 50, learning rate 0.204143, train MSE 1.208744e-02\n",
        "Itearation 60, learning rate 0.186465, train MSE 6.044095e-03\n",
        "Itearation 70, learning rate 0.171735, train MSE 3.490720e-03\n",
        "Itearation 80, learning rate 0.162304, train MSE 1.888410e-03"
       ]
      },
      {
       "output_type": "stream",
       "stream": "stdout",
       "text": [
        "\n",
        "Itearation 90, learning rate 0.154627, train MSE 1.464225e-03\n",
        "Itearation 100, learning rate 0.139738, train MSE 1.253540e-03\n",
        "Itearation 110, learning rate 0.133884, train MSE 1.148167e-03\n",
        "Itearation 120, learning rate 0.127429, train MSE 1.105392e-03\n",
        "Itearation 130, learning rate 0.123536, train MSE 1.052994e-03"
       ]
      },
      {
       "output_type": "stream",
       "stream": "stdout",
       "text": [
        "\n",
        "Itearation 140, learning rate 0.145545, train MSE 9.347003e-04\n",
        "Itearation 150, learning rate 0.121168, train MSE 9.172788e-04\n",
        "Itearation 160, learning rate 0.116614, train MSE 8.988726e-04\n",
        "Itearation 170, learning rate 0.113792, train MSE 8.814749e-04\n",
        "Itearation 180, learning rate 0.124448, train MSE 8.312851e-04\n",
        "Itearation 190, learning rate 0.108822, train MSE 8.081764e-04"
       ]
      },
      {
       "output_type": "stream",
       "stream": "stdout",
       "text": [
        "\n",
        "Itearation 200, learning rate 0.084910, train MSE 7.872881e-04\n",
        "Itearation 210, learning rate 0.094930, train MSE 7.358572e-04\n",
        "Itearation 220, learning rate 0.112792, train MSE 6.962374e-04\n",
        "Itearation 230, learning rate 0.110217, train MSE 6.588556e-04\n",
        "Itearation 240, learning rate 0.128016, train MSE 6.434450e-04\n",
        "Itearation 250, learning rate 0.120914, train MSE 6.219198e-04\n",
        "Itearation 260, learning rate 0.127366, train MSE 6.053609e-04"
       ]
      },
      {
       "output_type": "stream",
       "stream": "stdout",
       "text": [
        "\n",
        "Itearation 270, learning rate 0.112938, train MSE 5.855210e-04\n",
        "Itearation 280, learning rate 0.072841, train MSE 5.853803e-04\n",
        "Itearation 290, learning rate 0.079012, train MSE 5.259085e-04\n",
        "Itearation 300, learning rate 0.093527, train MSE 5.118105e-04\n",
        "Itearation 310, learning rate 0.089559, train MSE 5.057042e-04\n",
        "Itearation 320, learning rate 0.094257, train MSE 4.610066e-04"
       ]
      },
      {
       "output_type": "stream",
       "stream": "stdout",
       "text": [
        "\n",
        "Itearation 330, learning rate 0.089400, train MSE 4.547522e-04\n",
        "Itearation 340, learning rate 0.099153, train MSE 4.440523e-04\n",
        "Itearation 350, learning rate 0.114565, train MSE 4.228224e-04\n",
        "Itearation 360, learning rate 0.119775, train MSE 3.921137e-04\n",
        "Itearation 370, learning rate 0.115967, train MSE 3.863756e-04"
       ]
      },
      {
       "output_type": "stream",
       "stream": "stdout",
       "text": [
        "\n",
        "Itearation 380, learning rate 0.100103, train MSE 3.732317e-04\n",
        "Itearation 390, learning rate 0.094312, train MSE 3.680811e-04\n",
        "Itearation 400, learning rate 0.103857, train MSE 3.626149e-04\n",
        "Itearation 410, learning rate 0.108302, train MSE 3.494048e-04\n",
        "Itearation 420, learning rate 0.125182, train MSE 3.379449e-04\n",
        "Itearation 430, learning rate 0.122599, train MSE 3.325877e-04"
       ]
      },
      {
       "output_type": "stream",
       "stream": "stdout",
       "text": [
        "\n",
        "Itearation 440, learning rate 0.087019, train MSE 3.294759e-04\n",
        "Itearation 450, learning rate 0.072133, train MSE 3.257314e-04\n",
        "Itearation 460, learning rate 0.086043, train MSE 3.217692e-04\n",
        "Itearation 470, learning rate 0.058818, train MSE 3.206270e-04\n",
        "Itearation 480, learning rate 0.052050, train MSE 3.171122e-04\n",
        "Itearation 490, learning rate 0.066584, train MSE 3.104981e-04"
       ]
      },
      {
       "output_type": "stream",
       "stream": "stdout",
       "text": [
        "\n",
        "Itearation 500, learning rate 0.063996, train MSE 2.996423e-04\n",
        "Itearation 510, learning rate 0.064176, train MSE 2.875089e-04\n",
        "Itearation 520, learning rate 0.068423, train MSE 2.670729e-04\n",
        "Itearation 530, learning rate 0.054872, train MSE 2.405789e-04\n",
        "Itearation 540, learning rate 0.073320, train MSE 2.063937e-04\n",
        "Itearation 550, learning rate 0.102991, train MSE 1.778792e-04"
       ]
      },
      {
       "output_type": "stream",
       "stream": "stdout",
       "text": [
        "\n",
        "Itearation 560, learning rate 0.073023, train MSE 1.799933e-04\n",
        "Itearation 570, learning rate 0.082424, train MSE 1.713857e-04\n",
        "Itearation 580, learning rate 0.054272, train MSE 1.714315e-04\n",
        "Itearation 590, learning rate 0.044378, train MSE 1.714106e-04\n",
        "Itearation 600, learning rate 0.036378, train MSE 1.713463e-04\n",
        "Itearation 610, learning rate 0.032145, train MSE 1.712060e-04"
       ]
      },
      {
       "output_type": "stream",
       "stream": "stdout",
       "text": [
        "\n",
        "Itearation 620, learning rate 0.022887, train MSE 1.710395e-04\n",
        "Itearation 630, learning rate 0.034292, train MSE 1.693701e-04\n",
        "Itearation 640, learning rate 0.036443, train MSE 1.687890e-04\n",
        "Itearation 650, learning rate 0.031687, train MSE 1.689396e-04\n",
        "Itearation 660, learning rate 0.027165, train MSE 1.686171e-04\n",
        "Itearation 670, learning rate 0.042664, train MSE 1.637491e-04"
       ]
      },
      {
       "output_type": "stream",
       "stream": "stdout",
       "text": [
        "\n",
        "Itearation 680, learning rate 0.052564, train MSE 1.615496e-04\n",
        "Itearation 690, learning rate 0.061565, train MSE 1.599437e-04\n",
        "Itearation 700, learning rate 0.076486, train MSE 1.536132e-04\n",
        "Itearation 710, learning rate 0.089931, train MSE 1.493425e-04"
       ]
      },
      {
       "output_type": "stream",
       "stream": "stdout",
       "text": [
        "\n",
        "Itearation 720, learning rate 0.082082, train MSE 1.484000e-04"
       ]
      },
      {
       "output_type": "stream",
       "stream": "stdout",
       "text": [
        "\n",
        "Itearation 730, learning rate 0.064542, train MSE 1.486444e-04\n",
        "Itearation 740, learning rate 0.054385, train MSE 1.483403e-04\n",
        "Itearation 750, learning rate 0.039454, train MSE 1.480645e-04\n",
        "Itearation 760, learning rate 0.033543, train MSE 1.477302e-04\n",
        "Itearation 770, learning rate 0.033641, train MSE 1.472556e-04\n",
        "Itearation 780, learning rate 0.038903, train MSE 1.467266e-04"
       ]
      },
      {
       "output_type": "stream",
       "stream": "stdout",
       "text": [
        "\n",
        "Itearation 790, learning rate 0.033497, train MSE 1.466291e-04\n",
        "Itearation 800, learning rate 0.038024, train MSE 1.461434e-04\n",
        "Itearation 810, learning rate 0.042161, train MSE 1.450067e-04\n",
        "Itearation 820, learning rate 0.056477, train MSE 1.434250e-04\n",
        "Itearation 830, learning rate 0.053261, train MSE 1.430026e-04"
       ]
      },
      {
       "output_type": "stream",
       "stream": "stdout",
       "text": [
        "\n",
        "Itearation 840, learning rate 0.064888, train MSE 1.420399e-04\n",
        "Itearation 850, learning rate 0.057831, train MSE 1.419806e-04\n",
        "Itearation 860, learning rate 0.067518, train MSE 1.410590e-04\n",
        "Itearation 870, learning rate 0.073751, train MSE 1.401215e-04"
       ]
      },
      {
       "output_type": "stream",
       "stream": "stdout",
       "text": [
        "\n",
        "Itearation 880, learning rate 0.080329, train MSE 1.391441e-04\n",
        "Itearation 890, learning rate 0.053067, train MSE 1.389264e-04\n",
        "Itearation 900, learning rate 0.024964, train MSE 1.388394e-04\n",
        "Itearation 910, learning rate 0.027119, train MSE 1.379981e-04\n",
        "Itearation 920, learning rate 0.030689, train MSE 1.368655e-04\n",
        "Itearation 930, learning rate 0.026938, train MSE 1.368469e-04\n"
       ]
      },
      {
       "output_type": "stream",
       "stream": "stdout",
       "text": [
        "Itearation 940, learning rate 0.020964, train MSE 1.365734e-04\n",
        "Itearation 950, learning rate 0.032419, train MSE 1.346689e-04\n",
        "Itearation 960, learning rate 0.028267, train MSE 1.347058e-04\n",
        "Itearation 970, learning rate 0.045891, train MSE 1.316549e-04\n",
        "Itearation 980, learning rate 0.050061, train MSE 1.304069e-04\n",
        "Itearation 990, learning rate 0.051462, train MSE 1.268366e-04\n",
        "Itearation 1000, learning rate 0.069665, train MSE 1.214418e-04\n",
        "Itearation 1010, learning rate 0.059314, train MSE 1.206034e-04"
       ]
      },
      {
       "output_type": "stream",
       "stream": "stdout",
       "text": [
        "\n"
       ]
      }
     ],
     "prompt_number": 9
    },
    {
     "cell_type": "code",
     "collapsed": false,
     "input": [
      "f.reset()\n",
      "algo = vSGD(f, x0, callback=print_cb, loss_target=-np.inf, init_samples=1, batch_size=1)\n",
      "algo.run(100)"
     ],
     "language": "python",
     "metadata": {},
     "outputs": [
      {
       "output_type": "stream",
       "stream": "stdout",
       "text": [
        "Itearation 10, learning rate 16.349915, train MSE 1.489947e+01\n",
        "Itearation 20, learning rate 15.213094, train MSE 1.109172e+01\n",
        "Itearation 30, learning rate 0.549202, train MSE 8.916245e-01"
       ]
      },
      {
       "output_type": "stream",
       "stream": "stdout",
       "text": [
        "\n",
        "Itearation 40, learning rate 0.423945, train MSE 4.703371e-01"
       ]
      },
      {
       "output_type": "stream",
       "stream": "stdout",
       "text": [
        "\n",
        "Itearation 50, learning rate 0.330551, train MSE 3.182122e-01\n",
        "Itearation 60, learning rate 0.463116, train MSE 2.414088e-01\n",
        "Itearation 70, learning rate 0.308086, train MSE 2.239865e-01"
       ]
      },
      {
       "output_type": "stream",
       "stream": "stdout",
       "text": [
        "\n",
        "Itearation 80, learning rate 0.133708, train MSE 2.731787e-01\n",
        "Itearation 90, learning rate 0.179385, train MSE 1.555360e-01\n",
        "Itearation 100, learning rate 0.232308, train MSE 1.048644e-01"
       ]
      },
      {
       "output_type": "stream",
       "stream": "stdout",
       "text": [
        "\n"
       ]
      }
     ],
     "prompt_number": 6
    },
    {
     "cell_type": "code",
     "collapsed": false,
     "input": [
      "f.reset()\n",
      "algo = vSGD(f, x0, callback=print_cb, loss_target=-np.inf, init_samples=1, batch_size=10)\n",
      "algo.run(100)"
     ],
     "language": "python",
     "metadata": {},
     "outputs": [
      {
       "output_type": "stream",
       "stream": "stdout",
       "text": [
        "Itearation 10, learning rate 3.913827, train MSE 5.269932e-01\n",
        "Itearation 20, learning rate 12.014923, train MSE 1.685726e+00\n",
        "Itearation 30, learning rate 2.436211, train MSE 6.995431e-01\n",
        "Itearation 40, learning rate 1.678263, train MSE 5.553727e-01\n",
        "Itearation 50, learning rate 1.390055, train MSE 4.207554e-01\n",
        "Itearation 60, learning rate 1.477870, train MSE 2.800351e-01\n",
        "Itearation 70, learning rate 1.818968, train MSE 1.246526e-01\n",
        "Itearation 80, learning rate 1.490142, train MSE 9.998347e-02\n",
        "Itearation 90, learning rate 1.251313, train MSE 8.637250e-02"
       ]
      },
      {
       "output_type": "stream",
       "stream": "stdout",
       "text": [
        "\n",
        "Itearation 100, learning rate 1.234944, train MSE 7.442991e-02\n",
        "Itearation 110, learning rate 1.313331, train MSE 5.578067e-02"
       ]
      },
      {
       "output_type": "stream",
       "stream": "stdout",
       "text": [
        "\n",
        "Itearation 120, learning rate 1.310759, train MSE 5.443381e-02\n",
        "Itearation 130, learning rate 1.445421, train MSE 5.103536e-02"
       ]
      },
      {
       "output_type": "stream",
       "stream": "stdout",
       "text": [
        "\n",
        "Itearation 140, learning rate 1.509760, train MSE 4.373385e-02\n",
        "Itearation 150, learning rate 1.600955, train MSE 4.010364e-02\n",
        "Itearation 160, learning rate 1.012517, train MSE 4.058440e-02\n",
        "Itearation 170, learning rate 1.043425, train MSE 4.000516e-02\n",
        "Itearation 180, learning rate 0.927096, train MSE 3.946432e-02\n",
        "Itearation 190, learning rate 0.691202, train MSE 3.940263e-02"
       ]
      },
      {
       "output_type": "stream",
       "stream": "stdout",
       "text": [
        "\n",
        "Itearation 200, learning rate 0.655542, train MSE 3.694811e-02\n",
        "Itearation 210, learning rate 0.639323, train MSE 3.497645e-02\n",
        "Itearation 220, learning rate 0.611829, train MSE 3.391463e-02\n",
        "Itearation 230, learning rate 0.666360, train MSE 3.351382e-02\n",
        "Itearation 240, learning rate 0.668467, train MSE 3.263131e-02\n",
        "Itearation 250, learning rate 0.724973, train MSE 3.263472e-02\n",
        "Itearation 260, learning rate 0.728280, train MSE 3.184730e-02\n",
        "Itearation 270, learning rate 0.812348, train MSE 3.149626e-02\n",
        "Itearation 280, learning rate 0.869034, train MSE 2.981572e-02"
       ]
      },
      {
       "output_type": "stream",
       "stream": "stdout",
       "text": [
        "\n",
        "Itearation 290, learning rate 0.917281, train MSE 2.782682e-02\n",
        "Itearation 300, learning rate 0.943133, train MSE 2.566224e-02\n",
        "Itearation 310, learning rate 1.015206, train MSE 2.447230e-02\n",
        "Itearation 320, learning rate 0.989736, train MSE 2.506004e-02\n",
        "Itearation 330, learning rate 0.994270, train MSE 2.393903e-02\n",
        "Itearation 340, learning rate 0.965160, train MSE 2.445443e-02\n",
        "Itearation 350, learning rate 0.911356, train MSE 2.462721e-02\n",
        "Itearation 360, learning rate 0.964335, train MSE 2.344262e-02\n",
        "Itearation 370, learning rate 0.925580, train MSE 2.285704e-02"
       ]
      },
      {
       "output_type": "stream",
       "stream": "stdout",
       "text": [
        "\n",
        "Itearation 380, learning rate 0.922599, train MSE 2.228851e-02\n",
        "Itearation 390, learning rate 0.944484, train MSE 2.169446e-02\n",
        "Itearation 400, learning rate 0.862323, train MSE 2.071290e-02\n",
        "Itearation 410, learning rate 0.928054, train MSE 2.013118e-02\n",
        "Itearation 420, learning rate 1.040609, train MSE 2.020353e-02\n",
        "Itearation 430, learning rate 0.957528, train MSE 1.992840e-02\n",
        "Itearation 440, learning rate 0.760446, train MSE 1.976911e-02\n",
        "Itearation 450, learning rate 0.661087, train MSE 1.980613e-02"
       ]
      },
      {
       "output_type": "stream",
       "stream": "stdout",
       "text": [
        "\n",
        "Itearation 460, learning rate 0.652311, train MSE 1.965340e-02\n",
        "Itearation 470, learning rate 0.666167, train MSE 1.863126e-02\n",
        "Itearation 480, learning rate 0.639170, train MSE 1.870317e-02\n",
        "Itearation 490, learning rate 0.628249, train MSE 1.879667e-02\n",
        "Itearation 500, learning rate 0.620711, train MSE 1.869020e-02\n",
        "Itearation 510, learning rate 0.664241, train MSE 1.843222e-02"
       ]
      },
      {
       "output_type": "stream",
       "stream": "stdout",
       "text": [
        "\n",
        "Itearation 520, learning rate 0.663640, train MSE 1.819274e-02\n",
        "Itearation 530, learning rate 0.745152, train MSE 1.793964e-02\n",
        "Itearation 540, learning rate 0.777225, train MSE 1.792610e-02\n",
        "Itearation 550, learning rate 0.809172, train MSE 1.784850e-02\n",
        "Itearation 560, learning rate 0.791037, train MSE 1.761801e-02\n",
        "Itearation 570, learning rate 0.752212, train MSE 1.748601e-02\n",
        "Itearation 580, learning rate 0.784485, train MSE 1.683428e-02"
       ]
      },
      {
       "output_type": "stream",
       "stream": "stdout",
       "text": [
        "\n",
        "Itearation 590, learning rate 0.712578, train MSE 1.676954e-02\n",
        "Itearation 600, learning rate 0.791858, train MSE 1.558518e-02\n",
        "Itearation 610, learning rate 0.778111, train MSE 1.536526e-02\n",
        "Itearation 620, learning rate 0.854333, train MSE 1.517671e-02\n",
        "Itearation 630, learning rate 0.967337, train MSE 1.483280e-02\n",
        "Itearation 640, learning rate 0.908709, train MSE 1.440664e-02"
       ]
      },
      {
       "output_type": "stream",
       "stream": "stdout",
       "text": [
        "\n",
        "Itearation 650, learning rate 0.914786, train MSE 1.427749e-02\n",
        "Itearation 660, learning rate 0.979505, train MSE 1.412839e-02\n",
        "Itearation 670, learning rate 0.988834, train MSE 1.406860e-02\n",
        "Itearation 680, learning rate 1.009061, train MSE 1.407519e-02\n",
        "Itearation 690, learning rate 1.023390, train MSE 1.395795e-02\n",
        "Itearation 700, learning rate 1.067074, train MSE 1.401098e-02"
       ]
      },
      {
       "output_type": "stream",
       "stream": "stdout",
       "text": [
        "\n",
        "Itearation 710, learning rate 1.080422, train MSE 1.353529e-02\n",
        "Itearation 720, learning rate 1.039464, train MSE 1.348328e-02\n",
        "Itearation 730, learning rate 0.962155, train MSE 1.348348e-02\n",
        "Itearation 740, learning rate 0.884974, train MSE 1.314519e-02\n",
        "Itearation 750, learning rate 0.679811, train MSE 1.313311e-02\n",
        "Itearation 760, learning rate 0.568182, train MSE 1.280750e-02\n",
        "Itearation 770, learning rate 0.523620, train MSE 1.213996e-02"
       ]
      },
      {
       "output_type": "stream",
       "stream": "stdout",
       "text": [
        "\n",
        "Itearation 780, learning rate 0.510442, train MSE 1.147626e-02\n",
        "Itearation 790, learning rate 0.487264, train MSE 1.130047e-02\n",
        "Itearation 800, learning rate 0.473792, train MSE 1.102860e-02\n",
        "Itearation 810, learning rate 0.546202, train MSE 1.066732e-02\n",
        "Itearation 820, learning rate 0.570918, train MSE 1.058310e-02\n",
        "Itearation 830, learning rate 0.586000, train MSE 1.080345e-02\n",
        "Itearation 840, learning rate 0.573061, train MSE 1.046480e-02\n",
        "Itearation 850, learning rate 0.578167, train MSE 1.008218e-02\n",
        "Itearation 860, learning rate 0.646816, train MSE 1.010106e-02"
       ]
      },
      {
       "output_type": "stream",
       "stream": "stdout",
       "text": [
        "\n",
        "Itearation 870, learning rate 0.660970, train MSE 1.000969e-02\n",
        "Itearation 880, learning rate 0.723400, train MSE 9.789969e-03\n",
        "Itearation 890, learning rate 0.768737, train MSE 9.679343e-03\n",
        "Itearation 900, learning rate 0.761080, train MSE 9.419482e-03\n",
        "Itearation 910, learning rate 0.912263, train MSE 9.315415e-03\n",
        "Itearation 920, learning rate 0.865471, train MSE 9.435624e-03\n",
        "Itearation 930, learning rate 0.847141, train MSE 9.326178e-03"
       ]
      },
      {
       "output_type": "stream",
       "stream": "stdout",
       "text": [
        "\n",
        "Itearation 940, learning rate 0.823324, train MSE 9.179639e-03\n",
        "Itearation 950, learning rate 0.870748, train MSE 8.931055e-03\n",
        "Itearation 960, learning rate 0.895658, train MSE 8.777013e-03\n",
        "Itearation 970, learning rate 0.984877, train MSE 8.775546e-03\n",
        "Itearation 980, learning rate 0.795828, train MSE 8.659572e-03\n",
        "Itearation 990, learning rate 0.710463, train MSE 8.211579e-03"
       ]
      },
      {
       "output_type": "stream",
       "stream": "stdout",
       "text": [
        "\n",
        "Itearation 1000, learning rate 0.898959, train MSE 8.138265e-03\n",
        "Itearation 1010, learning rate 1.006161, train MSE 8.085021e-03\n"
       ]
      }
     ],
     "prompt_number": 10
    },
    {
     "cell_type": "heading",
     "level": 1,
     "metadata": {},
     "source": [
      "DG 5 Example"
     ]
    },
    {
     "cell_type": "code",
     "collapsed": false,
     "input": [
      "dataset_arff = arff.loadarff(\"/home/perun/Documents/workspace/sg-online-learning/data/DR5/DR5_MGS_ugrizeC_train.60000.rosenblatt.arff\")\n",
      "dataset =  dataset_arff[0].view(float).reshape(len(dataset_arff[0]), -1)\n",
      "dim = dataset.shape[1]-1\n",
      "level = 4\n",
      "l = 1E-8\n",
      "grid = Grid.createLinearGrid(dim)\n",
      "gridStorage = grid.getStorage()\n",
      "gridGen = grid.createGridGenerator()\n",
      "gridGen.regular(level)\n",
      "\n",
      "data_matrix = DataMatrix(dataset[:,:dim])\n",
      "mult_eval = createOperationMultipleEval(grid, data_matrix);\n",
      "print_cb = lambda s: print_mse(s, dataset[:,dim], mult_eval)\n",
      "\n",
      " \n",
      "f = SparseGridWrapper(grid, dataset, l)\n",
      "x0 = np.ones(grid.getSize())\n",
      "#algo = SGD(f, x0, callback=print_cb, learning_rate=0.2, loss_target=-np.inf)\n",
      "#algo = vSGDfd(f, x0, callback=print_cb, loss_target=-np.inf, init_samples=1000)\n",
      "#algo = vSGD(f, x0, callback=print_cb, loss_target=-np.inf, init_samples=1000)\n",
      "#algo.run(10000)\n"
     ],
     "language": "python",
     "metadata": {},
     "outputs": [],
     "prompt_number": 86
    },
    {
     "cell_type": "code",
     "collapsed": false,
     "input": [
      "\n",
      "algo = vSGDfd(f, x0, callback=print_cb, loss_target=-np.inf, init_samples=1)\n",
      "algo.run(10000)"
     ],
     "language": "python",
     "metadata": {},
     "outputs": []
    },
    {
     "cell_type": "code",
     "collapsed": true,
     "input": [
      "algo = vSGD(f, x0, callback=print_cb, learning_rate=0.02, init_samples=1, batch_size=10,\n",
      "            loss_target=-np.inf)\n",
      "algo.run(100)"
     ],
     "language": "python",
     "metadata": {},
     "outputs": [],
     "prompt_number": 89
    },
    {
     "cell_type": "code",
     "collapsed": false,
     "input": [
      "algo = AveragingSGD(f, x0, callback=print_cb, learning_rate=0.2, loss_target=-np.inf)\n",
      "algo.run(10000)"
     ],
     "language": "python",
     "metadata": {},
     "outputs": []
    },
    {
     "cell_type": "code",
     "collapsed": true,
     "input": [
      "algo = AnnealingSGD(f, x0, callback=print_cb, lea)\n",
      "algo.run(10000)"
     ],
     "language": "python",
     "metadata": {},
     "outputs": [
      {
       "output_type": "stream",
       "stream": "stdout",
       "text": [
        "Itearation 1000, learning rate 0.000114, train MSE 9.730575e+00\n",
        "Itearation 2000, learning rate 0.000053, train MSE 9.679014e+00"
       ]
      },
      {
       "output_type": "stream",
       "stream": "stdout",
       "text": [
        "\n",
        "Itearation 3000, learning rate 0.000035, train MSE 9.652380e+00"
       ]
      },
      {
       "output_type": "stream",
       "stream": "stdout",
       "text": [
        "\n",
        "Itearation 4000, learning rate 0.000026, train MSE 9.635246e+00"
       ]
      },
      {
       "output_type": "stream",
       "stream": "stdout",
       "text": [
        "\n",
        "Itearation 5000, learning rate 0.000021, train MSE 9.621237e+00"
       ]
      },
      {
       "output_type": "stream",
       "stream": "stdout",
       "text": [
        "\n",
        "Itearation 6000, learning rate 0.000017, train MSE 9.609569e+00"
       ]
      },
      {
       "output_type": "stream",
       "stream": "stdout",
       "text": [
        "\n",
        "Itearation 7000, learning rate 0.000015, train MSE 9.599961e+00"
       ]
      },
      {
       "output_type": "stream",
       "stream": "stdout",
       "text": [
        "\n",
        "Itearation 8000, learning rate 0.000013, train MSE 9.591697e+00"
       ]
      },
      {
       "output_type": "stream",
       "stream": "stdout",
       "text": [
        "\n",
        "Itearation 9000, learning rate 0.000011, train MSE 9.584183e+00"
       ]
      },
      {
       "output_type": "stream",
       "stream": "stdout",
       "text": [
        "\n",
        "Itearation 10000, learning rate 0.000010, train MSE 9.576883e+00"
       ]
      },
      {
       "output_type": "stream",
       "stream": "stdout",
       "text": [
        "\n"
       ]
      }
     ],
     "prompt_number": 73
    },
    {
     "cell_type": "heading",
     "level": 1,
     "metadata": {},
     "source": [
      "Hessian diagonals"
     ]
    },
    {
     "cell_type": "code",
     "collapsed": false,
     "input": [
      "params_DV = DataVector(grid.getSize())\n",
      "params_DV.setAll(0.)\n",
      "results_DV = DataVector(dataset.shape[0])\n",
      "hess = np.zeros(grid.getSize())\n",
      "for i in xrange(grid.getSize()):\n",
      "    params_DV[i] = 1.0\n",
      "    mult_eval.mult(params_DV, results_DV);\n",
      "    hess[i] = results_DV.l2Norm()**2/dataset.shape[0]\n",
      "    params_DV[i] = 0.0\n",
      "print hess"
     ],
     "language": "python",
     "metadata": {},
     "outputs": [
      {
       "output_type": "stream",
       "stream": "stdout",
       "text": [
        "[ 0.33938668  0.14877323  0.17546269  0.07520099  0.08021157  0.08774484\n",
        "  0.08903672  0.0447475   0.03642774  0.04043046  0.04503614  0.03504175\n",
        "  0.04348335  0.03948462  0.041386  ]\n"
       ]
      }
     ],
     "prompt_number": 8
    },
    {
     "cell_type": "code",
     "collapsed": false,
     "input": [
      "hess"
     ],
     "language": "python",
     "metadata": {},
     "outputs": [
      {
       "metadata": {},
       "output_type": "pyout",
       "prompt_number": 10,
       "text": [
        "array([  4.63449092e+00,   2.99033654e+00,   2.26507206e+00,\n",
        "         2.02033093e+00,   1.97044965e+00,   1.70355446e-01,\n",
        "         1.56033114e+00,   7.42024604e-01,   1.15507250e-03,\n",
        "         1.20031027e+00,   1.10930046e+00,   6.81421783e-01,\n",
        "         0.00000000e+00,   1.59238748e+00,   8.27024279e-01])"
       ]
      }
     ],
     "prompt_number": 10
    },
    {
     "cell_type": "code",
     "collapsed": false,
     "input": [
      "algo._last_diaghessians"
     ],
     "language": "python",
     "metadata": {},
     "outputs": [
      {
       "metadata": {},
       "output_type": "pyout",
       "prompt_number": 9,
       "text": [
        "array([[ 0.17442101,  0.        ,  0.69768403,  0.        ,  0.        ,\n",
        "         0.        ,  0.10853753,  0.        ,  0.        ,  0.        ,\n",
        "         0.        ,  0.        ,  0.        ,  0.43415013,  0.        ]])"
       ]
      }
     ],
     "prompt_number": 9
    },
    {
     "cell_type": "code",
     "collapsed": false,
     "input": [
      "algo._hbar"
     ],
     "language": "python",
     "metadata": {},
     "outputs": [
      {
       "metadata": {},
       "output_type": "pyout",
       "prompt_number": 13,
       "text": [
        "array([ 0.44527813,  0.06322936,  0.13618523,  0.00614399,  0.09570651,\n",
        "        0.06193081,  0.04882648,  0.02458883,  0.        ,  0.01036366,\n",
        "        0.14289732,  0.05812569,  0.02153788,  0.02206753,  0.02246177])"
       ]
      }
     ],
     "prompt_number": 13
    },
    {
     "cell_type": "code",
     "collapsed": false,
     "input": [
      "steps_norm = []\n",
      "for steps in np.linspace(10, 350, 35):\n",
      "    f.reset()\n",
      "    algo = vSGD(f, x0, loss_target=-np.inf, init_samples=0, batch_size=1)\n",
      "    algo.run(steps)\n",
      "    steps_norm.append([steps, np.linalg.norm(hess-algo._hbar)])\n",
      "steps_norm = np.array(steps_norm)"
     ],
     "language": "python",
     "metadata": {},
     "outputs": [],
     "prompt_number": 61
    },
    {
     "cell_type": "code",
     "collapsed": false,
     "input": [
      "steps_norm2 = []\n",
      "batch_size2 = 50\n",
      "for steps in np.linspace(10, 350, 35):\n",
      "    f.reset()\n",
      "    algo = vSGD(f, x0, loss_target=-np.inf, init_samples=1, batch_size=batch_size)\n",
      "    algo.run(steps)\n",
      "    steps_norm2.append([steps, np.linalg.norm(hess-algo._hbar)])\n",
      "steps_norm2 = np.array(steps_norm2)"
     ],
     "language": "python",
     "metadata": {},
     "outputs": [],
     "prompt_number": 71
    },
    {
     "cell_type": "code",
     "collapsed": false,
     "input": [
      "steps_norm3 = []\n",
      "batch_size3 = 10\n",
      "for steps in np.linspace(10, 350, 35):\n",
      "    f.reset()\n",
      "    algo = vSGD(f, x0, loss_target=-np.inf, init_samples=1, batch_size=batch_size3)\n",
      "    algo.run(steps)\n",
      "    steps_norm3.append([steps, np.linalg.norm(hess-algo._hbar)])\n",
      "steps_norm3 = np.array(steps_norm3)"
     ],
     "language": "python",
     "metadata": {},
     "outputs": [],
     "prompt_number": 84
    },
    {
     "cell_type": "code",
     "collapsed": false,
     "input": [
      "sns.set_context(\"notebook\", font_scale=1.5, rc={\"lines.linewidth\": 2.5})\n",
      "fig = pl.figure(figsize=(8, 6))\n",
      "pl.plot(steps_norm[:,0], steps_norm[:,1], '-', label='1 example')\n",
      "pl.plot(steps_norm3[:,0], steps_norm3[:,1], '-', label='minibatch size 10')\n",
      "pl.plot(steps_norm2[:,0], steps_norm2[:,1], '-', label='minibatch size 50')\n",
      "pl.title('Distance of $\\\\bar{h^t}$ from true hessian diagonal')\n",
      "pl.xlabel('SGD steps $t$')\n",
      "pl.ylabel('$\\|\\\\bar{h^t}-h\\|_2$')\n",
      "fig.axes[0].set_yscale('log')\n",
      "pl.legend()"
     ],
     "language": "python",
     "metadata": {},
     "outputs": [
      {
       "metadata": {},
       "output_type": "pyout",
       "prompt_number": 85,
       "text": [
        "<matplotlib.legend.Legend at 0x1b1d4f90>"
       ]
      },
      {
       "metadata": {},
       "output_type": "display_data",
       "png": "[encoded data removed]",
       "text": [
        "<matplotlib.figure.Figure at 0x1b4b9190>"
       ]
      }
     ],
     "prompt_number": 85
    },
    {
     "cell_type": "markdown",
     "metadata": {},
     "source": [
      "As stochastic gradient progresses, the approximation $\\bar{h^t}$ towards the true hessian diagonal. Using minibatch converges much faster."
     ]
    },
    {
     "cell_type": "code",
     "collapsed": false,
     "input": [
      "algo = vSGD(f, x0, loss_target=-np.inf, init_samples=0, batch_size=1)\n",
      "algo.run(100)"
     ],
     "language": "python",
     "metadata": {},
     "outputs": []
    },
    {
     "cell_type": "heading",
     "level": 1,
     "metadata": {},
     "source": [
      "2D Parabola"
     ]
    },
    {
     "cell_type": "code",
     "collapsed": false,
     "input": [
      "def collect_mse(s, y, collection, mult_eval):\n",
      "    if s.provider._counter % 10 == 0:\n",
      "        params_DV = DataVector(s.bestParameters)\n",
      "        results_DV = DataVector(len(y))\n",
      "        mult_eval.mult(params_DV, results_DV);\n",
      "        #print y[:15]\n",
      "        #print results_DV.array()[:15]\n",
      "        residual = np.linalg.norm(y - results_DV.array())\n",
      "        collection.append([s.provider._counter, np.mean(s.learning_rate), residual**2/len(y)])"
     ],
     "language": "python",
     "metadata": {},
     "outputs": [],
     "prompt_number": 11
    },
    {
     "cell_type": "code",
     "collapsed": false,
     "input": [
      "dim = 2\n",
      "level = 4\n",
      "l = 1E-8\n",
      "grid = Grid.createLinearGrid(dim)\n",
      "gridStorage = grid.getStorage()\n",
      "gridGen = grid.createGridGenerator()\n",
      "gridGen.regular(level)\n",
      "\n",
      "size = 1000\n",
      "x = np.random.rand(size*dim).reshape(size,-1)\n",
      "y = np.apply_along_axis(lambda p:4*p[0]*(1-p[0])*p[1]*(1-p[1]), 1, x)\n",
      "dataset = np.vstack([x.T,y]).T\n",
      "\n",
      "\n",
      "data_matrix = DataMatrix(dataset[:,:dim])\n",
      "mult_eval = createOperationMultipleEval(grid, data_matrix);\n",
      "\n",
      " \n",
      "f = SparseGridWrapper(grid, dataset, l)\n",
      "x0 = np.zeros(grid.getSize())\n",
      "#algo = SGD(f, x0, callback=print_cb, learning_rate=0.2, loss_target=-np.inf)\n",
      "\n",
      "#algo = vSGD(f, x0, callback=print_cb, loss_target=-np.inf, init_samples=10, batch_size=1)\n"
     ],
     "language": "python",
     "metadata": {},
     "outputs": [],
     "prompt_number": 12
    },
    {
     "cell_type": "markdown",
     "metadata": {},
     "source": [
      "Finite differences approximation"
     ]
    },
    {
     "cell_type": "code",
     "collapsed": false,
     "input": [
      "collect_fd = []\n",
      "collect_cb = lambda s: collect_mse(s, dataset[:,dim], collect_fd, mult_eval)\n",
      "f.reset()\n",
      "algo = vSGDfd(f, x0, callback=collect_cb, loss_target=-np.inf, init_samples=5, batch_size=10)\n",
      "algo.run(1000)\n",
      "collect_fd = np.array(collect_fd)"
     ],
     "language": "python",
     "metadata": {},
     "outputs": [],
     "prompt_number": 32
    },
    {
     "cell_type": "markdown",
     "metadata": {},
     "source": [
      "initialization with true hessian"
     ]
    },
    {
     "cell_type": "code",
     "collapsed": false,
     "input": [
      "collect_v = []\n",
      "collect_cb = lambda s: collect_mse(s, dataset[:,dim], collect_v, mult_eval)\n",
      "f.reset()\n",
      "algo = vSGD(f, x0, callback=collect_cb, loss_target=-np.inf, init_samples=5, batch_size=10)\n",
      "algo._hbar = hess\n",
      "algo.run(1000)\n",
      "collect_v = np.array(collect_v)"
     ],
     "language": "python",
     "metadata": {},
     "outputs": [],
     "prompt_number": 58
    },
    {
     "cell_type": "markdown",
     "metadata": {},
     "source": [
      "without initialization with true hessian"
     ]
    },
    {
     "cell_type": "code",
     "collapsed": false,
     "input": [
      "collect_v2 = []\n",
      "collect_cb = lambda s: collect_mse(s, dataset[:,dim], collect_v2, mult_eval)\n",
      "f.reset()\n",
      "algo = vSGD(f, x0, callback=collect_cb, loss_target=-np.inf, init_samples=5, batch_size=10)\n",
      "algo.run(1000)\n",
      "collect_v2 = np.array(collect_v2)"
     ],
     "language": "python",
     "metadata": {},
     "outputs": [],
     "prompt_number": 61
    },
    {
     "cell_type": "code",
     "collapsed": false,
     "input": [
      "sns.set_context(\"notebook\", font_scale=1.5, rc={\"lines.linewidth\": 2.5})\n",
      "fig = pl.figure(figsize=(16, 6))\n",
      "fig.add_subplot(1,2,1)\n",
      "pl.plot(collect_fd[:,0], collect_fd[:,2], '-', label='finite differences')\n",
      "pl.plot(collect_v[:,0], collect_v[:,2], '-', label='original with hess init')\n",
      "pl.plot(collect_v2[:,0], collect_v2[:,2], '-', label='original w/o hess init')\n",
      "pl.title('Training MSE')\n",
      "pl.xlabel('SGD steps $t$')\n",
      "pl.ylabel('MSE')\n",
      "fig.axes[0].set_yscale('log')\n",
      "fig.axes[0].set_xscale('log')\n",
      "pl.legend()\n",
      "fig.add_subplot(1,2,2)\n",
      "pl.plot(collect_fd[:,0], collect_fd[:,1], '-', label='finite differences')\n",
      "pl.plot(collect_v[:,0], collect_v[:,1], '-', label='original with hess init')\n",
      "pl.plot(collect_v2[:,0], collect_v2[:,1], '-', label='original w/o hess init')\n",
      "pl.title('Learning rate')\n",
      "pl.xlabel('SGD steps $t$')\n",
      "pl.ylabel('$\\eta$')\n",
      "fig.axes[1].set_yscale('log')\n",
      "pl.legend()"
     ],
     "language": "python",
     "metadata": {},
     "outputs": [
      {
       "metadata": {},
       "output_type": "pyout",
       "prompt_number": 62,
       "text": [
        "<matplotlib.legend.Legend at 0xf7d35d0>"
       ]
      },
      {
       "metadata": {},
       "output_type": "display_data",
       "png": "[encoded data removed]",
       "text": [
        "<matplotlib.figure.Figure at 0x111c50d0>"
       ]
      }
     ],
     "prompt_number": 62
    },
    {
     "cell_type": "code",
     "collapsed": false,
     "input": [
      "def collect_herr(s, hess, collection):\n",
      "    #import ipdb; ipdb.set_trace()\n",
      "    if s.provider._counter % 10 == 0:\n",
      "        #print y[:15]\n",
      "        #print results_DV.array()[:15]\n",
      "        residual = np.linalg.norm(y - results_DV.array())\n",
      "        collection.append([s.provider._counter, np.linalg.norm(hess-s._hbar)])"
     ],
     "language": "python",
     "metadata": {},
     "outputs": [],
     "prompt_number": 50
    },
    {
     "cell_type": "code",
     "collapsed": false,
     "input": [
      "params_DV = DataVector(grid.getSize())\n",
      "params_DV.setAll(0.)\n",
      "results_DV = DataVector(dataset.shape[0])\n",
      "hess = np.zeros(grid.getSize())\n",
      "for i in xrange(grid.getSize()):\n",
      "    params_DV[i] = 1.0\n",
      "    mult_eval.mult(params_DV, results_DV);\n",
      "    hess[i] = results_DV.l2Norm()**2/dataset.shape[0]\n",
      "    params_DV[i] = 0.0\n",
      "print hess"
     ],
     "language": "python",
     "metadata": {},
     "outputs": [
      {
       "output_type": "stream",
       "stream": "stdout",
       "text": [
        "[ 0.11033799  0.05647138  0.05342291  0.02974435  0.02712515  0.02554313\n",
        "  0.0317954   0.01469801  0.01504562  0.01062248  0.01540736  0.01292148\n",
        "  0.0148006   0.01181486  0.01497467  0.05772552  0.05651551  0.02687118\n",
        "  0.02731383  0.03027404  0.02416976  0.01331189  0.01362666  0.01491986\n",
        "  0.01330247  0.01251211  0.01638543  0.01368063  0.01355749  0.02757443\n",
        "  0.02562529  0.01291627  0.01559377  0.01543947  0.01134622  0.02760403\n",
        "  0.029414    0.01498434  0.01165485  0.01280435  0.01384221  0.01498334\n",
        "  0.01269684  0.01431696  0.0155818   0.01480606  0.01275438  0.01496314\n",
        "  0.01363353]\n"
       ]
      }
     ],
     "prompt_number": 40
    },
    {
     "cell_type": "code",
     "collapsed": false,
     "input": [
      "collect_h10 = []\n",
      "collect_cb = lambda s: collect_herr(s, hess, collect_h10)\n",
      "f.reset()\n",
      "algo = vSGD(f, x0, callback=collect_cb, loss_target=-np.inf, init_samples=5, batch_size=10)\n",
      "algo.run(1000)\n",
      "collect_h10 = np.array(collect_h10)"
     ],
     "language": "python",
     "metadata": {},
     "outputs": [],
     "prompt_number": 53
    },
    {
     "cell_type": "code",
     "collapsed": false,
     "input": [
      "collect_h10init = []\n",
      "collect_cb = lambda s: collect_herr(s, hess, collect_h10init)\n",
      "f.reset()\n",
      "algo = vSGD(f, x0, callback=collect_cb, loss_target=-np.inf, init_samples=5, batch_size=10)\n",
      "algo._hbar = hess\n",
      "algo.run(1000)\n",
      "collect_h10init = np.array(collect_h10init)"
     ],
     "language": "python",
     "metadata": {},
     "outputs": [],
     "prompt_number": 64
    },
    {
     "cell_type": "code",
     "collapsed": false,
     "input": [
      "fig = pl.figure(figsize=(8, 6))\n",
      "pl.plot(collect_h10[:,0], collect_h10[:,1], '-', label='wo hess init')\n",
      "pl.plot(collect_h10init[:,0], collect_h10init[:,1], '-', label='with hess init')\n",
      "pl.title('Distance of $\\\\bar{h^t}$ from true hessian diagonal')\n",
      "pl.xlabel('SGD steps $t$')\n",
      "pl.ylabel('$\\|\\\\bar{h^t}-h\\|_2$')\n",
      "pl.legend()\n",
      "fig.axes[0].set_yscale('log')\n",
      "fig.axes[0].set_xscale('log')"
     ],
     "language": "python",
     "metadata": {},
     "outputs": [
      {
       "metadata": {},
       "output_type": "display_data",
       "png": "[encoded data removed]",
       "text": [
        "<matplotlib.figure.Figure at 0x1232fb10>"
       ]
      }
     ],
     "prompt_number": 67
    },
    {
     "cell_type": "markdown",
     "metadata": {},
     "source": [
      "the curve viwth hessian initialization drop to 0 directly"
     ]
    },
    {
     "cell_type": "code",
     "collapsed": false,
     "input": [],
     "language": "python",
     "metadata": {},
     "outputs": []
    }
   ],
   "metadata": {}
  }
 ]
}